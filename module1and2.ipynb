{
 "cells": [
  {
   "cell_type": "markdown",
   "metadata": {},
   "source": [
    " What is Software?\n",
    "\n",
    "Ans - software are the collection of commands and programs which are directed to perfrom some task"
   ]
  },
  {
   "cell_type": "markdown",
   "metadata": {},
   "source": [
    " What are the types of Applications?\n",
    "\n",
    "Ans - 1. Database apps.\n",
    "      2. Custom apps.\n",
    "      3. Web-based apps.\n",
    "      4. Low code apps.\n",
    "      5. No code apps.\n",
    "      6. Enterprise apps."
   ]
  },
  {
   "cell_type": "markdown",
   "metadata": {},
   "source": [
    " What is programing?\n",
    "\n",
    "Ans - Program is nothing but the collection of comannd to to a task"
   ]
  },
  {
   "cell_type": "markdown",
   "metadata": {},
   "source": [
    " What is Python?\n",
    "\n",
    "Ans - Python is interprited, high level, general purpose , object object-oriented progrmaing language."
   ]
  },
  {
   "cell_type": "markdown",
   "metadata": {},
   "source": [
    "Module – 2 (Fundamentals of python)"
   ]
  },
  {
   "cell_type": "markdown",
   "metadata": {},
   "source": [
    "Write a Python program to check if a number is positive, negative or\n",
    "zero. "
   ]
  },
  {
   "cell_type": "code",
   "execution_count": 1,
   "metadata": {},
   "outputs": [
    {
     "name": "stdout",
     "output_type": "stream",
     "text": [
      "the number is +ve\n"
     ]
    }
   ],
   "source": [
    "i = int(input(\"enter a number\"))\n",
    "if(i==0):\n",
    "    print(\"enter number is zero\")\n",
    "if(i>0):\n",
    "    print(\"the number is +ve\")\n",
    "else:\n",
    "    print(\"the number is -ve\")"
   ]
  },
  {
   "cell_type": "markdown",
   "metadata": {},
   "source": [
    "Q. Write a Python program to get the Factorial number of given number"
   ]
  },
  {
   "cell_type": "code",
   "execution_count": null,
   "metadata": {},
   "outputs": [
    {
     "ename": "",
     "evalue": "",
     "output_type": "error",
     "traceback": [
      "\u001b[1;31mRunning cells with 'c:\\Python312\\python.exe' requires the ipykernel package.\n",
      "\u001b[1;31mRun the following command to install 'ipykernel' into the Python environment. \n",
      "\u001b[1;31mCommand: 'c:/Python312/python.exe -m pip install ipykernel -U --user --force-reinstall'"
     ]
    }
   ],
   "source": [
    "n = int(input(\"enter a number for factorial\"))\n",
    "fact = 1\n",
    "for i in range(1,n+1):\n",
    "    fact=fact*i\n",
    "print(\"factorial of number is : \" , fact)        "
   ]
  },
  {
   "cell_type": "markdown",
   "metadata": {},
   "source": [
    "Q. Write a Python program to get the Fibonacci series of given range."
   ]
  },
  {
   "cell_type": "code",
   "execution_count": 7,
   "metadata": {},
   "outputs": [
    {
     "name": "stdout",
     "output_type": "stream",
     "text": [
      "0 1 1 0"
     ]
    }
   ],
   "source": [
    "n = int(input(\"enter a number for Fibonacci series\"))\n",
    "a=0\n",
    "b=1\n",
    "c=1\n",
    "lis=()\n",
    "for i in range(2,n+1):\n",
    "      d=a\n",
    "      e=b\n",
    "      lis=a\n",
    "      d=d+1\n",
    "      e=b+1\n",
    "print(a , b, c,lis, end=\"\")"
   ]
  },
  {
   "cell_type": "markdown",
   "metadata": {},
   "source": [
    " Write a Python program to find whether a given number is even or odd,\n",
    "print out an appropriate message to the user."
   ]
  },
  {
   "cell_type": "code",
   "execution_count": null,
   "metadata": {},
   "outputs": [
    {
     "ename": "",
     "evalue": "",
     "output_type": "error",
     "traceback": [
      "\u001b[1;31mRunning cells with 'c:\\Python312\\python.exe' requires the ipykernel package.\n",
      "\u001b[1;31mRun the following command to install 'ipykernel' into the Python environment. \n",
      "\u001b[1;31mCommand: 'c:/Python312/python.exe -m pip install ipykernel -U --user --force-reinstall'"
     ]
    }
   ],
   "source": [
    "n= int(input(\"Enter a number to chek wether the number is a evern or oddd\"))\n",
    "if n%2==0:\n",
    "    print(\"the number entered is even\")\n",
    "elif n%2!=0:\n",
    "    print(\"the number entered is odd\")\n",
    "else:\n",
    "    print(\"entered number is Zero \")"
   ]
  },
  {
   "cell_type": "markdown",
   "metadata": {},
   "source": [
    " Write a Python program to test whether a passed letter is a vowel or\n",
    "not. "
   ]
  },
  {
   "cell_type": "code",
   "execution_count": null,
   "metadata": {},
   "outputs": [
    {
     "ename": "",
     "evalue": "",
     "output_type": "error",
     "traceback": [
      "\u001b[1;31mRunning cells with 'c:\\Python312\\python.exe' requires the ipykernel package.\n",
      "\u001b[1;31mRun the following command to install 'ipykernel' into the Python environment. \n",
      "\u001b[1;31mCommand: 'c:/Python312/python.exe -m pip install ipykernel -U --user --force-reinstall'"
     ]
    }
   ],
   "source": [
    "n = input(\"Enter a number to check wether its is vowel\")\n",
    "if n=='a' or n=='e' or n=='i' or n=='o' or n=='u' or n=='A' or n=='O' or n=='E' or n=='I' or n=='U':\n",
    "    print(n, \"this entered charatcter is Vowel\")\n",
    "else:\n",
    "    print(n ,\"This is consonant\")"
   ]
  },
  {
   "cell_type": "markdown",
   "metadata": {},
   "source": [
    " Write a Python program to sum of three given integers. However, if\n",
    "two values are equal sum will be zero."
   ]
  },
  {
   "cell_type": "code",
   "execution_count": null,
   "metadata": {},
   "outputs": [
    {
     "ename": "",
     "evalue": "",
     "output_type": "error",
     "traceback": [
      "\u001b[1;31mRunning cells with 'c:\\Python312\\python.exe' requires the ipykernel package.\n",
      "\u001b[1;31mRun the following command to install 'ipykernel' into the Python environment. \n",
      "\u001b[1;31mCommand: 'c:/Python312/python.exe -m pip install ipykernel -U --user --force-reinstall'"
     ]
    }
   ],
   "source": [
    "a=int(input(\"Enter 1ist Numbers\"))  \n",
    "b=int(input(\"Enter 2and Numbers\")) \n",
    "c=int(input(\"Enter 3rd Numbers\")) \n",
    "if a==b:\n",
    "    print(a-b)\n",
    "#worng"
   ]
  },
  {
   "cell_type": "markdown",
   "metadata": {},
   "source": [
    " Write a Python program that will return true if the two given integer\n",
    "values are equal or their sum or difference is 5. "
   ]
  },
  {
   "cell_type": "code",
   "execution_count": null,
   "metadata": {},
   "outputs": [
    {
     "ename": "",
     "evalue": "",
     "output_type": "error",
     "traceback": [
      "\u001b[1;31mRunning cells with 'c:\\Python312\\python.exe' requires the ipykernel package.\n",
      "\u001b[1;31mRun the following command to install 'ipykernel' into the Python environment. \n",
      "\u001b[1;31mCommand: 'c:/Python312/python.exe -m pip install ipykernel -U --user --force-reinstall'"
     ]
    }
   ],
   "source": [
    "a=int(input(\"Enter 1ist Numbers\"))  \n",
    "b=int(input(\"Enter 2and Numbers\")) \n",
    "if a==5 or b==5 or a+b==5 or a-b==5:\n",
    "    print(True)\n",
    "else:\n",
    "    print(False)\n",
    "  \n"
   ]
  },
  {
   "cell_type": "markdown",
   "metadata": {},
   "source": [
    " Write a python program to sum of the first n positive integers. "
   ]
  },
  {
   "cell_type": "code",
   "execution_count": null,
   "metadata": {},
   "outputs": [
    {
     "ename": "",
     "evalue": "",
     "output_type": "error",
     "traceback": [
      "\u001b[1;31mRunning cells with 'c:\\Python312\\python.exe' requires the ipykernel package.\n",
      "\u001b[1;31mRun the following command to install 'ipykernel' into the Python environment. \n",
      "\u001b[1;31mCommand: 'c:/Python312/python.exe -m pip install ipykernel -U --user --force-reinstall'"
     ]
    }
   ],
   "source": [
    "n= int(input(\"Enter a sum of the first n positive integer\"))\n",
    "sum=0\n",
    "for i in range(n+1):\n",
    "    sum+=i\n",
    "print(\"Sum of n numbers\",sum)"
   ]
  },
  {
   "cell_type": "markdown",
   "metadata": {},
   "source": [
    " Write a Python program to calculate the length of a string. "
   ]
  },
  {
   "cell_type": "code",
   "execution_count": 4,
   "metadata": {},
   "outputs": [
    {
     "name": "stdout",
     "output_type": "stream",
     "text": [
      "5  is the length of you have entered\n"
     ]
    }
   ],
   "source": [
    "n = input(\"Enter Calculate the length of string\")\n",
    "x=len(n)\n",
    "print(x,\" is the length of you have entered\")"
   ]
  },
  {
   "cell_type": "markdown",
   "metadata": {},
   "source": [
    " Write a Python program to count the number of characters (character\n",
    "frequency) in a string"
   ]
  },
  {
   "cell_type": "code",
   "execution_count": 9,
   "metadata": {},
   "outputs": [
    {
     "name": "stdout",
     "output_type": "stream",
     "text": [
      "vveeddvv\n",
      "v have Counted 4\n"
     ]
    }
   ],
   "source": [
    "st = input(\"Enter to count the number of characters\")\n",
    "ls = list(st)\n",
    "x=len(st)\n",
    "print(st)\n",
    "\n",
    "count=0\n",
    "for i in range(x):\n",
    "    if ls[i] in ls:\n",
    "        s=ls.count(ls[i])\n",
    "print(ls[i] , \"have Counted\", s)\n",
    "#dout when running repated letter are comming 2-3 times see run"
   ]
  },
  {
   "cell_type": "markdown",
   "metadata": {},
   "source": [
    " What are negative indexes and why are they used? "
   ]
  },
  {
   "cell_type": "markdown",
   "metadata": {},
   "source": [
    "Ans- Negative indexes in Python refer to the ability to access elements in a sequence (like a string, list, or tuple) from the end instead of the beginning. In Python, you can use negative indexes to access elements relative to the end of the sequence.\n",
    "\n",
    "Here's how negative indexing works:\n",
    "\n",
    "Positive Indexing: In positive indexing (which is more common), elements are accessed starting from index 0 for the first element, 1 for the second element, and so on.\n",
    "\n",
    "Negative Indexing: In negative indexing, elements are accessed starting from index -1 for the last element, -2 for the second-to-last element, and so forth."
   ]
  },
  {
   "cell_type": "markdown",
   "metadata": {},
   "source": [
    " Write a Python program to count occurrences of a substring in a string."
   ]
  },
  {
   "cell_type": "markdown",
   "metadata": {},
   "source": [
    " Write a Python program to count the occurrences of each word in a\n",
    "given sentence"
   ]
  },
  {
   "cell_type": "code",
   "execution_count": 10,
   "metadata": {},
   "outputs": [
    {
     "name": "stdout",
     "output_type": "stream",
     "text": [
      "{'P': 1, 'r': 1, 'a': 2, 's': 1, 'h': 1, 'n': 1, 't': 1}\n"
     ]
    }
   ],
   "source": [
    "n = input(\"Enter String : \")\n",
    "d = {}\n",
    "for i in n:\n",
    "    if i in d:\n",
    "        d[i]+=1\n",
    "        \n",
    "    else:\n",
    "        d[i]=1\n",
    "        \n",
    "print(d)\n"
   ]
  },
  {
   "cell_type": "markdown",
   "metadata": {},
   "source": []
  }
 ],
 "metadata": {
  "kernelspec": {
   "display_name": "Python 3",
   "language": "python",
   "name": "python3"
  },
  "language_info": {
   "codemirror_mode": {
    "name": "ipython",
    "version": 3
   },
   "file_extension": ".py",
   "mimetype": "text/x-python",
   "name": "python",
   "nbconvert_exporter": "python",
   "pygments_lexer": "ipython3",
   "version": "3.10.7"
  }
 },
 "nbformat": 4,
 "nbformat_minor": 2
}
