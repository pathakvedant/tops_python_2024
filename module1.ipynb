{
 "cells": [
  {
   "cell_type": "markdown",
   "metadata": {},
   "source": [
    " What is Software?\n",
    "\n",
    "Ans - software are the collection of commands and programs which are directed to perfrom some task"
   ]
  },
  {
   "cell_type": "markdown",
   "metadata": {},
   "source": [
    " What are the types of Applications?\n",
    "\n",
    "Ans - 1. Database apps.\n",
    "      2. Custom apps.\n",
    "      3. Web-based apps.\n",
    "      4. Low code apps.\n",
    "      5. No code apps.\n",
    "      6. Enterprise apps."
   ]
  },
  {
   "cell_type": "markdown",
   "metadata": {},
   "source": [
    " What is programing?\n",
    "\n",
    "Ans - Program is nothing but the collection of comannd to to a task"
   ]
  },
  {
   "cell_type": "markdown",
   "metadata": {},
   "source": [
    " What is Python?\n",
    "\n",
    "Ans - Python is interprited, high level, general purpose , object object-oriented progrmaing language."
   ]
  },
  {
   "cell_type": "code",
   "execution_count": null,
   "metadata": {},
   "outputs": [],
   "source": []
  }
 ],
 "metadata": {
  "language_info": {
   "name": "python"
  }
 },
 "nbformat": 4,
 "nbformat_minor": 2
}
